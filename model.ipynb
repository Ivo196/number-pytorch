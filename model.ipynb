{
 "cells": [
  {
   "cell_type": "markdown",
   "metadata": {},
   "source": [
    "### 1. TUTORIAL: ¡PYTORCH DESDE CERO!"
   ]
  },
  {
   "cell_type": "markdown",
   "metadata": {},
   "source": [
    "### 2. El problema a resolver\n",
    "\n",
    "Supondremos un sencillo problema:\n",
    "\n",
    "Crear una Red Neuronal para clasificar imágenes de dígitos escritos a mano\n",
    "\n",
    "Así:\n",
    "\n",
    "La entrada a la Red Neuronal serán imágenes en escala de gris, de tamaño 28x28, que contendrán un dígito (entre 0 y 9) escrito a mano\n",
    "La Red Neuronal tendrá que aprender a clasificar estas imágenes en una de 10 posibles categorías (de 0 a 9).\n",
    "Así que el dato predicho por la Red Neuronal será una cantidad numérica (entre 0 y 9) que debería coincidir con el dígito escrito en la imagen de entrada\n",
    "Pero antes de implementar la Red debemos entender la forma como Pytorch procesa los datos.\n",
    "\n",
    "Comencemos hablando de los Tensores."
   ]
  },
  {
   "cell_type": "markdown",
   "metadata": {},
   "source": [
    "### 3. Los tensores\n",
    "\n",
    "Un tensor es simplemente un arreglo de datos\n",
    "\n",
    "Este arreglo puede ser un vector (1 dimensión), una matriz (2 dimensiones) o puede tener 3 o más dimensiones.\n",
    "\n",
    "Los tensores son usados por Pytorch para almacenar todos los datos usados por el modelo de Deep Learning (datos de entrada, parámetros, datos de salida).\n",
    "\n",
    "Comencemos creando de forma manual un simple Tensor con cantidades numéricas:"
   ]
  },
  {
   "cell_type": "code",
   "execution_count": 3,
   "metadata": {},
   "outputs": [
    {
     "name": "stdout",
     "output_type": "stream",
     "text": [
      "tensor([[1, 2, 3],\n",
      "        [4, 5, 6]])\n"
     ]
    }
   ],
   "source": [
    "# Importamos la librería de Pytorch\n",
    "import torch \n",
    "\n",
    "# Creamos un tensor con valores numéricos\n",
    "arreglo = [[1, 2, 3], [4, 5, 6]] # 2 filas y 3 columnas\n",
    "tensor1 = torch.tensor(arreglo)\n",
    "print(tensor1)\n",
    "\n"
   ]
  },
  {
   "cell_type": "code",
   "execution_count": 35,
   "metadata": {},
   "outputs": [
    {
     "name": "stdout",
     "output_type": "stream",
     "text": [
      "Tensor1 en: cuda:0\n",
      "Usando: cuda\n"
     ]
    }
   ],
   "source": [
    "# Una característica importante de los Tensores es que los podemos almacenar en la CPU (por defecto) o en la GPU (lo que permite aprovechar su velocidad de cómputo).\n",
    "\n",
    "#Por ejemplo, veamos en qué dispositivo (device) está almacenado el tensor que acabamos de crear:\n",
    "\n",
    "from torch.cpu import is_available\n",
    "\n",
    "\n",
    "print(f'Tensor1 en: {tensor1.device}')\n",
    "\n",
    "#Si ahora nos conectamos a la GPU de Google Colab podemos almacenar esta información en una variable:\n",
    "device = ('cuda' if torch.cuda.is_available() else 'cpu')\n",
    "print(f'Usando: {device}')"
   ]
  },
  {
   "cell_type": "code",
   "execution_count": 5,
   "metadata": {},
   "outputs": [
    {
     "name": "stdout",
     "output_type": "stream",
     "text": [
      "cuda:0\n"
     ]
    }
   ],
   "source": [
    "# Y podemos almacenar el tensor en la GPU usando el método \"to\":\n",
    "tensor1 = tensor1.to(device)\n",
    "print(tensor1.device) #Con esto, si realizamos cualquier operación con este tensor ésta será realizada sobre la GPU (sobre esto volveremos en unos momentos)."
   ]
  },
  {
   "cell_type": "code",
   "execution_count": 6,
   "metadata": {},
   "outputs": [
    {
     "data": {
      "text/plain": [
       "torch.Size([2, 3])"
      ]
     },
     "execution_count": 6,
     "metadata": {},
     "output_type": "execute_result"
    }
   ],
   "source": [
    "#Y por ser un arreglo, un Tensor tiene atributos como por ejemplo su tamaño (shape):\n",
    "tensor1.shape"
   ]
  },
  {
   "cell_type": "markdown",
   "metadata": {},
   "source": [
    "### 4. Los Datasets y el set de datos\n",
    "En Pytorch existen dos módulos que nos permiten cargar sets de datos:\n",
    "\n",
    "torch.utils.data.Dataset: nos permite cargar datasets que se encuentran en la base de datos de Pytorch\n",
    "torch.utils.data.DataLoader: nos permite cargar datasets propios así como iterar sobre un Dataset.\n",
    "En este tutorial usaremos estos dos métodos:\n",
    "\n",
    "Primero usaremos torchvision.datasets para cargar el set de datos de imágenes de caracteres\n",
    "Más adelante usaremos torch.utils.data.DataLoader para iterar sobre el set de datos de imágenes y así entrenar y validar el modelo\n",
    "Comencemos usando torchvision.datasets para cargar un set de datos pre-existente.\n",
    "\n",
    "#### 4.1. Descargar el set de datos\n",
    "Usaremos el set de datos MNIST, el cual contiene un total de 60.000 imágenes cada una con un dígito (entre 0 y 9) escrito a mano. Además, por cada imagen se tiene su categoría correspondiente (una cantidad numérica entre 0 y 9).\n",
    "\n",
    "Comencemos descargando este set de datos desde la base de datos de Pytorch:"
   ]
  },
  {
   "cell_type": "code",
   "execution_count": 7,
   "metadata": {},
   "outputs": [],
   "source": [
    "#Importamos las librerias necesarias\n",
    "from torchvision import datasets #Para descargar los datos\n",
    "from torchvision.transforms import ToTensor #Para convertir los datos en tensores\n",
    "import matplotlib.pyplot as plt #Para graficar los datos\n",
    "\n",
    "data_mnist = datasets.MNIST(\n",
    "    root=\"data\", #Ruta donde se guardaran los datos\n",
    "    train=True, #Se descargan los datos de entrenamiento\n",
    "    download=True, \n",
    "    transform=ToTensor() #Se convierten los datos en tensores\n",
    ")"
   ]
  },
  {
   "cell_type": "code",
   "execution_count": 8,
   "metadata": {},
   "outputs": [
    {
     "data": {
      "text/plain": [
       "Dataset MNIST\n",
       "    Number of datapoints: 60000\n",
       "    Root location: data\n",
       "    Split: Train\n",
       "    StandardTransform\n",
       "Transform: ToTensor()"
      ]
     },
     "execution_count": 8,
     "metadata": {},
     "output_type": "execute_result"
    }
   ],
   "source": [
    "#Vemos caracteristicas de los datos\n",
    "data_mnist\n",
    "#Vemos que tiene un total de 60000 imagenes "
   ]
  },
  {
   "cell_type": "code",
   "execution_count": 9,
   "metadata": {},
   "outputs": [
    {
     "data": {
      "image/png": "[encoded data removed]",
      "text/plain": [
       "<Figure size 800x800 with 9 Axes>"
      ]
     },
     "metadata": {},
     "output_type": "display_data"
    }
   ],
   "source": [
    "#Graficamos algunas images de ejemplo\n",
    "figure = plt.figure(figsize=(8,8))\n",
    "fils, cols = 3, 3\n",
    "\n",
    "for i in range(1, cols * fils + 1):\n",
    "    #Generamos un indice aleatorio\n",
    "    sample_idx = int(torch.randint(len(data_mnist), size=(1,)).item())\n",
    "    #Obtenemos la imagen y el label\n",
    "    img, label = data_mnist[sample_idx]\n",
    "    #Graficamos\n",
    "    figure.add_subplot(fils, cols, i)\n",
    "    plt.title(str(label)) #Categoria\n",
    "    plt.axis(\"off\") #No mostramos los ejes\n",
    "    plt.imshow(img.squeeze(), cmap=\"gray\") #Imagen (squeeze por que la imagen es de 1x28x28)\n",
    "plt.show()\n"
   ]
  },
  {
   "cell_type": "code",
   "execution_count": 10,
   "metadata": {},
   "outputs": [
    {
     "name": "stdout",
     "output_type": "stream",
     "text": [
      "Tipo de dato imagen: <class 'torch.Tensor'>\n",
      "Dimensiones de la imagen: torch.Size([1, 28, 28])\n",
      "Minimo y maximo imagen: 0.0, 1.0\n",
      "Tipo de categoria: <class 'int'>\n"
     ]
    }
   ],
   "source": [
    "#Caracteristicas de una image\n",
    "print(f'Tipo de dato imagen: {type(img)}')\n",
    "print(f'Dimensiones de la imagen: {img.shape}')\n",
    "print(f'Minimo y maximo imagen: {img.min()}, {img.max()}')\n",
    "print(f'Tipo de categoria: {type(label)}')\n"
   ]
  },
  {
   "cell_type": "markdown",
   "metadata": {},
   "source": [
    "Cada imagen tiene estas características:\n",
    "\n",
    "Es un Tensor\n",
    "Tiene un tamaño de 1x28x28 (el 1 indica que es una imagen en escala de grises)\n",
    "Sus pixeles tienen valores entre 0 y 1\n",
    "Por otra parte es importante tener en cuenta que la categoría está por defecto almacenada como un entero (int) y no como un tensor. Esto implica que más adelante tendremos que convertir la categoría de cada imagen a un tensor para que pueda ser procesada por la Red Neuronal."
   ]
  },
  {
   "cell_type": "markdown",
   "metadata": {},
   "source": [
    "#### 4.2. Sets de entrenamiento, validación y prueba\n",
    "\n",
    "Siempre que construimos un modelo de Deep Learning debemos realizar la partición del set de datos en entrenamiento, validación y prueba.\n",
    "\n",
    "En este caso haremos la partición usando proporciones del 80, 10 y 10% respectivamente.\n",
    "\n",
    "Esto lo podemos lograr fácilmente usando el método random_split de Pytorch.\n",
    "\n",
    "Para ello, primero fijamos la semilla del generador de números aleatorio de Pytorch, lo que garantizará que cada vez que ejecutemos el código obtendremos las mismas particiones:"
   ]
  },
  {
   "cell_type": "code",
   "execution_count": 11,
   "metadata": {},
   "outputs": [
    {
     "data": {
      "text/plain": [
       "<torch._C.Generator at 0x192c1503e50>"
      ]
     },
     "execution_count": 11,
     "metadata": {},
     "output_type": "execute_result"
    }
   ],
   "source": [
    "torch.manual_seed(42)\n"
   ]
  },
  {
   "cell_type": "code",
   "execution_count": 12,
   "metadata": {},
   "outputs": [
    {
     "name": "stdout",
     "output_type": "stream",
     "text": [
      "Total de imagenes en el set de entrenamiento: 48000, <class 'torch.utils.data.dataset.Subset'>\n",
      "Total de imagenes en el set de validacion: 6000, <class 'torch.utils.data.dataset.Subset'>\n",
      "Total de imagenes en el set de prueba: 6000, <class 'torch.utils.data.dataset.Subset'>\n"
     ]
    }
   ],
   "source": [
    "train, val, test = torch.utils.data.random_split(\n",
    "    data_mnist,\n",
    "    [0.8,0.1,0.1]\n",
    ")\n",
    "print(f'Total de imagenes en el set de entrenamiento: {len(train)}, {type(train)}')\n",
    "print(f'Total de imagenes en el set de validacion: {len(val)}, {type(val)}')\n",
    "print(f'Total de imagenes en el set de prueba: {len(test)}, {type(test)}')"
   ]
  },
  {
   "cell_type": "markdown",
   "metadata": {},
   "source": [
    "Y vemos que los tres subsets de datos son de tipo dataset.\n",
    "\n",
    "Ya estamos listos para ver cómo crear el modelo (la Red Neuronal)."
   ]
  },
  {
   "cell_type": "markdown",
   "metadata": {},
   "source": [
    "#### 5. ¿Cómo crear un modelo de Deep Learning?\n",
    "\n",
    "Crearemos una sencilla Red Neuronal con estas características:\n",
    "\n",
    "Capa de entrada: 28x28 = 784 elementos\n",
    "Capa oculta: 15 neuronas, activación ReLU\n",
    "Capa de salida: 10 neuronas (1 por cada categoría a predecir), activación softmax5. ¿Cómo crear un modelo de Deep Learning?\n",
    "Crearemos una sencilla Red Neuronal con estas características:\n",
    "\n",
    "Capa de entrada: 28x28 = 784 elementos\n",
    "Capa oculta: 15 neuronas, activación ReLU\n",
    "Capa de salida: 10 neuronas (1 por cada categoría a predecir), activación softmax"
   ]
  },
  {
   "cell_type": "markdown",
   "metadata": {},
   "source": [
    "Adicionalmente, antes de llevar cada imagen a la Red tendremos que aplanarla para convertirla de un tensor 3D de 1x28x28 a un tensor de 1D de 28x28 = 784 (el mismo tamaño de la capa de entrada de la Red)\n",
    "Para crear la Red Neuronal debemos crear una sub-clase de nn.Module. Veamos cómo hacerlo:"
   ]
  },
  {
   "cell_type": "code",
   "execution_count": 13,
   "metadata": {},
   "outputs": [],
   "source": [
    "#Importamos modulo nn\n",
    "from torch import nn \n",
    "\n",
    "# Crear la Red Neuronal como una subclase de nn.Module\n",
    "# Siempre se añaden dos métodos a esta subclase\n",
    "# 1. Método \"init\": define la arquitectura de la red\n",
    "# 2. Método \"forward\": define cómo será generada cada predicción\n",
    "\n",
    "# Creamos una sub-clase de nn.Module\n",
    "class RedNeuronal(nn.Module):\n",
    "    def __init__(self):\n",
    "        super().__init__()\n",
    "\n",
    "        #Agregamos secuencialmente las capas de la red\n",
    "        self.aplanar = nn.Flatten() #Aplana las imagenes de 1x28x28 a 1D de 784 elementos\n",
    "        self.red = nn.Sequential(\n",
    "            nn.Linear(28*28, 15), #Capa de entrada + capa oculta\n",
    "            nn.ReLU(), #Activacion ReLU\n",
    "            nn.Linear(15, 10) #Capa de salida\n",
    "        )\n",
    "    def forward(self, x):\n",
    "        x = self.aplanar(x)\n",
    "        logits = self.red(x)\n",
    "        return logits"
   ]
  },
  {
   "cell_type": "markdown",
   "metadata": {},
   "source": [
    "Nota: a pesar de que la capa de salida debería tener una activación softmax esta no se incluye porque no es necesaria para el entrenamiento (sólo es necesaria para garantizar que las salidas de cada neurona de salida suman exactamente 1).\n",
    "\n",
    "Habiendo creado la clase ya podemos crear la Red Neuronal simplemente:\n",
    "\n",
    "Creando una instancia de la clase RedNeuronal\n",
    "Y moviendo esta instancia a la GPU"
   ]
  },
  {
   "cell_type": "code",
   "execution_count": 14,
   "metadata": {},
   "outputs": [
    {
     "name": "stdout",
     "output_type": "stream",
     "text": [
      "RedNeuronal(\n",
      "  (aplanar): Flatten(start_dim=1, end_dim=-1)\n",
      "  (red): Sequential(\n",
      "    (0): Linear(in_features=784, out_features=15, bias=True)\n",
      "    (1): ReLU()\n",
      "    (2): Linear(in_features=15, out_features=10, bias=True)\n",
      "  )\n",
      ")\n"
     ]
    }
   ],
   "source": [
    "modelo = RedNeuronal().to(device)\n",
    "print(modelo)"
   ]
  },
  {
   "cell_type": "code",
   "execution_count": 15,
   "metadata": {},
   "outputs": [
    {
     "name": "stdout",
     "output_type": "stream",
     "text": [
      "Numero de parametros a entrenar: 11935\n"
     ]
    }
   ],
   "source": [
    "# Podemos usar el método parameters() para imprimir en pantalla el número de parámetros a entrenar en este modelo:\n",
    "total_params = sum(p.numel()for p in modelo.parameters())\n",
    "print(f'Numero de parametros a entrenar: {total_params}')"
   ]
  },
  {
   "cell_type": "markdown",
   "metadata": {},
   "source": [
    "#### 6. Propagación hacia adelante y hacia atrás\n",
    "La propagación hacia adelante y hacia atrás son las dos fases clave al momento de entrenar la Red Neuronal.\n",
    "\n",
    "Veamos cada fase en detalle:\n",
    "\n",
    "6.1. Propagación hacia adelante (forward propagation)\n",
    "Con la propagación hacia adelante se toma el dato de entrada ( X ), la Red lo procesa y genera una predicción ( ypred  ):"
   ]
  },
  {
   "cell_type": "code",
   "execution_count": 16,
   "metadata": {},
   "outputs": [
    {
     "name": "stdout",
     "output_type": "stream",
     "text": [
      "<class 'torch.Tensor'>\n",
      "<class 'int'>\n"
     ]
    }
   ],
   "source": [
    "# Extraer una imagen y su categoría del set de entrenamiento\n",
    "img, lbl = train[200]\n",
    "\n",
    "print(type(img))\n",
    "print(type(lbl))\n",
    "#Vemos que la imagen es un Tensor mientras que la categoría es un entero. Debemos convertir esta categoría a un tensor para poder presentarla al modelo:"
   ]
  },
  {
   "cell_type": "code",
   "execution_count": 17,
   "metadata": {},
   "outputs": [
    {
     "name": "stdout",
     "output_type": "stream",
     "text": [
      "<class 'torch.Tensor'>\n"
     ]
    }
   ],
   "source": [
    "# Convertir \"lbl\" a Tensor usando \"tensor\", definir tamaño igual a 1 (1 dato)\n",
    "# con \"reshape\"\n",
    "lbl = torch.tensor(lbl).reshape(1)\n",
    "print(type(lbl))"
   ]
  },
  {
   "cell_type": "code",
   "execution_count": 18,
   "metadata": {},
   "outputs": [],
   "source": [
    "# Ahora llevamos tanto el dato como su categoría a la GPU:\n",
    "img, lbl = img.to(device), lbl.to(device)"
   ]
  },
  {
   "cell_type": "code",
   "execution_count": 19,
   "metadata": {},
   "outputs": [
    {
     "name": "stdout",
     "output_type": "stream",
     "text": [
      "tensor([[-0.2088, -0.1774,  0.2579,  0.1910,  0.0531, -0.1378, -0.1164, -0.0240,\n",
      "         -0.3448,  0.0655]], device='cuda:0', grad_fn=<AddmmBackward0>)\n"
     ]
    }
   ],
   "source": [
    "logits = modelo(img)\n",
    "print(logits)"
   ]
  },
  {
   "cell_type": "code",
   "execution_count": 20,
   "metadata": {},
   "outputs": [
    {
     "name": "stdout",
     "output_type": "stream",
     "text": [
      "tensor([2], device='cuda:0')\n",
      "Logits: tensor([[-0.2088, -0.1774,  0.2579,  0.1910,  0.0531, -0.1378, -0.1164, -0.0240,\n",
      "         -0.3448,  0.0655]], device='cuda:0', grad_fn=<AddmmBackward0>)\n",
      "Categoría predicha: 2\n",
      "Categoría real: 0\n"
     ]
    },
    {
     "data": {
      "image/png": "[encoded data removed]",
      "text/plain": [
       "<Figure size 640x480 with 1 Axes>"
      ]
     },
     "metadata": {},
     "output_type": "display_data"
    }
   ],
   "source": [
    "#La predicción (o logits) es un arreglo no normalizado de 10 valores numéricos (puesto que tenemos 10 categorías).\n",
    "\n",
    "#No normalizado implica que su suma no es igual a 1. Para normalizarlo se puede usar la función softmax aunque no es necesario, podemos calcular la categoría predicha simplemente encontrando la posición donde se encuentre el valor máximo:\n",
    "\n",
    "y_pred = logits.argmax(dim=1)\n",
    "print(y_pred)\n",
    "\n",
    "# Mostremos la imagen \n",
    "plt.imshow(img.cpu().squeeze(), cmap='gray')\n",
    "\n",
    "print(f'Logits: {logits}')\n",
    "print(f'Categoría predicha: {y_pred[0]}')\n",
    "print(f'Categoría real: {lbl[0]}')"
   ]
  },
  {
   "cell_type": "markdown",
   "metadata": {},
   "source": [
    "¡Es de esperar que la categoría predicha (2) o coincida con la categoría real (0) pesto que no hemos entrenado la Red Neuronal!\n",
    "\n",
    "Veamos ahora la segunda fase que hace parte del entrenamiento: la propagación hacia atrás.\n",
    "\n",
    "6.2. Propagación hacia atrás (backward propagation o backprop)\n",
    "Esta propagación hacia atrás permite actualizar los parámetros del modelo con base en el gradiente de la pérdida.\n",
    "\n",
    "La idea básica es ajustar estos parámetros para minimizar la pérdida (mejorando así las predicciones).\n",
    "\n",
    "Los pasos involucrados en esta propagación hacia atrás son:\n",
    "\n",
    "Definir la pérdida (función que se usará para comparar las predicciones con las categorías reales) y el optimizador (algoritmo que se usará para ajustar los parámetros y minimizar la pérdida)\n",
    "Tomar cada predicción (logits), compararla con la categoría real correspondiente (y) y calcular la pérdida (loss)\n",
    "Calcular los gradientes de la pérdida (derivadas con respecto a cada parámetro)\n",
    "Actualizar los parámetros del modelo usando los gradientes y un algoritmo de optimización (como por ejemplo el Gradiente Descendente):"
   ]
  },
  {
   "cell_type": "markdown",
   "metadata": {},
   "source": [
    "Veamos cómo implementar cada uno de estos pasos.\n",
    "\n",
    "Comencemos definiendo la función de pérdida (entropía cruzada) y el optimizador a usar (Gradiente Descendente). En este último caso usaremos una tasa de aprendizaje de 0.2:"
   ]
  },
  {
   "cell_type": "code",
   "execution_count": 21,
   "metadata": {},
   "outputs": [],
   "source": [
    "fn_perdida = nn.CrossEntropyLoss()\n",
    "optimizador = torch.optim.SGD(modelo.parameters(), lr=0.2)"
   ]
  },
  {
   "cell_type": "markdown",
   "metadata": {},
   "source": [
    "Vemos que al definir el optimizador el primer argumento son los parámetros del modelo (modelo.parameters()).\n",
    "\n",
    "Esto permite \"conectar\" el modelo al optimizador de tal manera que durante el entrenamiento el optimizador pueda ajustar los parámetros para mejorar las predicciones.\n",
    "\n",
    "Ahora tomamos la predicción (que se obtuvo con la propagación hacia adelante), la comparamos con la categoría real y calculamos la pérdida. La\n",
    "\n",
    "Esto se hace con una sola línea de código:"
   ]
  },
  {
   "cell_type": "code",
   "execution_count": 22,
   "metadata": {},
   "outputs": [
    {
     "name": "stdout",
     "output_type": "stream",
     "text": [
      "tensor(2.4832, device='cuda:0', grad_fn=<NllLossBackward0>)\n"
     ]
    }
   ],
   "source": [
    "loss = fn_perdida(logits, lbl)\n",
    "print(loss)"
   ]
  },
  {
   "cell_type": "markdown",
   "metadata": {},
   "source": [
    "Ahora calculamos los gradientes de la pérdida. Esto logra usando el método backward() asociado a la variable loss:"
   ]
  },
  {
   "cell_type": "code",
   "execution_count": 23,
   "metadata": {},
   "outputs": [],
   "source": [
    "loss.backward()"
   ]
  },
  {
   "cell_type": "markdown",
   "metadata": {},
   "source": [
    "Y finalmente actualizamos los parámetros del modelo usando el optimizador.\n",
    "\n",
    "Esto se logra en dos pasos:\n",
    "\n",
    "1. Usando el método `step()` que actualiza los parámetros del modelo\n",
    "2. Usando el método `zero_grad()` para explícitamente borrar los gradientes calculados anteriormente (pues Pytorch los deja almacenados y esto afecta el entrenamiento).\n",
    "\n",
    "Estos dos pasos los podemos implementar en dos líneas de código:"
   ]
  },
  {
   "cell_type": "code",
   "execution_count": 24,
   "metadata": {},
   "outputs": [],
   "source": [
    "optimizador.step()\n",
    "optimizador.zero_grad()"
   ]
  },
  {
   "cell_type": "markdown",
   "metadata": {},
   "source": [
    "Y listo, ya tenemos la propagación hacia atrás.\n",
    "\n",
    "Así que para resumir, re-escribamos todas las líneas de código anteriores para combinar en un sólo bloque la propagación hacia adelante y hacia atrás:"
   ]
  },
  {
   "cell_type": "code",
   "execution_count": 25,
   "metadata": {},
   "outputs": [],
   "source": [
    "# img: dato, lbl: categoría real\n",
    "\n",
    "# Propagación hacia adelante (generar predicciones)\n",
    "logits = modelo(img)\n",
    "\n",
    "# Propagación hacia atrás\n",
    "loss = fn_perdida(logits, lbl) # Perdida\n",
    "loss.backward() # Calcular gradientes\n",
    "optimizador.step() # Actualizar parámetros del modelo\n",
    "optimizador.zero_grad() # Borrar gradientes calculados anteriormente"
   ]
  },
  {
   "cell_type": "markdown",
   "metadata": {},
   "source": [
    "Y listo, tenemos en muy pocas líneas de código los dos pasos esenciales en el entrenamiento de cualquier modelo de Deep Learning: forward + back propagation.\n",
    "\n",
    "Al entrenar el modelo no usaremos una sola imagen sino que usaremos todo el set de entrenamiento. Y además repetiremos la anterior celda de código varias veces (el número de iteraciones de entrenamiento que definamos).\n",
    "\n",
    "Así que con todo lo visto hasta este punto ya estamos listos para conectar todos estos elementos y ver cómo se crea, entrena y valida nuestra Red Neuronal para clasificar imágenes."
   ]
  },
  {
   "cell_type": "markdown",
   "metadata": {},
   "source": [
    "#### 7. Entrenando y validando un modelo: ejemplo completo\n",
    "En esta última parte simplemente tomaremos las porciones de código de las secciones anteriores y las organizaremos para entender la lógica de creación, entrenamiento y validación de la Red Neuronal.\n",
    "\n",
    "Veamos todo esto en detalle.\n",
    "\n",
    "7.1. Creación de la Red Neuronal\n",
    "Escribamos en una sola celda el código necesario para crear la clase y la instancia correspondiente a nuestro modelo:"
   ]
  },
  {
   "cell_type": "code",
   "execution_count": 26,
   "metadata": {},
   "outputs": [],
   "source": [
    "# Clase\n",
    "class RedNeuronal(nn.Module):\n",
    "    # 1. Método \"init\"\n",
    "    def __init__(self):\n",
    "        super().__init__()\n",
    "\n",
    "        # Y agregar secuencialmente las capas\n",
    "        self.aplanar = nn.Flatten() # Aplanar imágenes de entrada\n",
    "        self.red = nn.Sequential(\n",
    "            nn.Linear(28*28, 15), # Capa de entrada + capa oculta\n",
    "            nn.ReLU(), # Función de activación capa oculta\n",
    "            nn.Linear(15,10), # Capa de salida SIN activación\n",
    "        )\n",
    "\n",
    "    # 2. Método \"forward\" (x = dato de entrada)\n",
    "    def forward(self, x):\n",
    "        # Definir secuencialmente las operaciones a aplicar\n",
    "        x = self.aplanar(x) # Aplanar dato\n",
    "        logits = self.red(x) # Generar predicción\n",
    "\n",
    "        return logits\n",
    "\n",
    "# Instancia (llevada a la GPU)\n",
    "modelo = RedNeuronal().to(device)"
   ]
  },
  {
   "cell_type": "markdown",
   "metadata": {},
   "source": [
    "Antes de entrenar la Red (usando el código para la propagación hacia adelante y hacia atrás), debemos preparar nuestros set de entrenamiento y validación. Veamos cómo hacer esto.\n",
    "7.2. Preparar los sets de entrenamiento y validación\n",
    "El set de entrenamiento nos permitirá usar la propagación hacia adelante y hacia atrás para automáticamente actualizar los parámetros del modelo.\n",
    "\n",
    "Por su parte el set de validación se usará para que tras cada iteración de entrenamiento, pongamos a prueba el modelo y verifiquemos su desempeño.\n",
    "\n",
    "Como tenemos muchos datos de entrenamiento (48.000) y muchos de validación (6.000) no podemos presentarlos en bloque al modelo pues habría problemas con la memoria RAM.\n",
    "\n",
    "En lugar de ello los presentamos por lotes (batches), es decir pequeños grupos de datos.\n",
    "\n",
    "Para poder crear estos lotes y presentarlos al modelo usamos DataLoaderel segundo módulo de procesamiento de datos que posee Pytorch:"
   ]
  },
  {
   "cell_type": "code",
   "execution_count": 27,
   "metadata": {},
   "outputs": [],
   "source": [
    "from torch.utils.data import DataLoader\n",
    "\n",
    "TAM_LOTE = 1000 # batch size\n",
    "\n",
    "# Creamos el DataLoader para el set de entrenamiento y vali\n",
    "\n",
    "train_loader = DataLoader(\n",
    "    train,\n",
    "    batch_size=TAM_LOTE,\n",
    "    shuffle=True, # Mezclamos los datos \n",
    ")\n",
    "val_loader = DataLoader(\n",
    "    val,\n",
    "    batch_size=TAM_LOTE,\n",
    "    shuffle=False, # No mezclamos los datos\n",
    ")\n"
   ]
  },
  {
   "cell_type": "markdown",
   "metadata": {},
   "source": [
    "Cuando entrenemos y validemos el modelo le presentaremos, en cada iteración, las variables train_loader y val_loader para que se realice el entrenamiento y la validación.\n",
    "\n",
    "Así que ya tenemos todo listo para realizar este entrenamiento y validación de la red. Veamos el código.\n",
    "\n",
    "7.3. Entrenamiento y validación del modelo\n",
    "Comencemos definiendo los hiper-parámetros: la tasa de aprendizaje del algoritmo de optimización y el número de iteraciones de entrenamiento:"
   ]
  },
  {
   "cell_type": "code",
   "execution_count": 28,
   "metadata": {},
   "outputs": [],
   "source": [
    "TASA_APRENDIZAJE = 0.1 # learning rate\n",
    "EPOCHS = 10 # epochs"
   ]
  },
  {
   "cell_type": "code",
   "execution_count": 29,
   "metadata": {},
   "outputs": [],
   "source": [
    "fn_perdida = nn.CrossEntropyLoss()\n",
    "optimizador = torch.optim.SGD(modelo.parameters(), lr=TASA_APRENDIZAJE)"
   ]
  },
  {
   "cell_type": "markdown",
   "metadata": {},
   "source": [
    "Ahora crearemos la función train_loop que se ejecutará en cada iteración del entrenamiento.\n",
    "\n",
    "Esta función usa las dos fases vistas anteriormente: propagación hacia adelante y hacia atrás.\n",
    "\n",
    "Además, en cada iteración calcularemos dos variables que nos permitirán monitorear el progreso del entrenamiento:\n",
    "\n",
    "perdida_train: valores promedio de la función de pérdida en cada iteración\n",
    "exactitud: valores promedio (en cada iteración) de la exactitud del modelo al momento de clasificar los datos. La exactitud es simplemente el porcentaje de datos clasificados correctamente con respecto al total de datos clasificados.\n",
    "Veamos cómo implementar esta función:"
   ]
  },
  {
   "cell_type": "code",
   "execution_count": 30,
   "metadata": {},
   "outputs": [],
   "source": [
    "def train_loop(dataloader, model, loss_fn, optimizer):\n",
    "    # Cantidad de datos de entrenamiento y cantidad de lotes\n",
    "    train_size = len(dataloader.dataset) #48000\n",
    "    nlotes = len(dataloader) #48\n",
    "\n",
    "    #Indicarle a Pytorch que el modelo está en modo entrenamiento\n",
    "    modelo.train()\n",
    "\n",
    "    # Inicializar acumuladores de pérdida y exactitud\n",
    "    perdida_train, exactitud = 0, 0\n",
    "\n",
    "    for nlote, (X, y) in enumerate(dataloader):\n",
    "        X, y = X.to(device), y.to(device)\n",
    "\n",
    "        # Propagación hacia adelante\n",
    "        logits = model(X)\n",
    "\n",
    "        # Propagación hacia atrás\n",
    "        loss = loss_fn(logits, y)\n",
    "        loss.backward()\n",
    "        optimizer.step()\n",
    "        optimizer.zero_grad()\n",
    "\n",
    "        # Acumular valores de pérdida y exactitud\n",
    "        # perdida_train <- perdida_train + perdida_actual\n",
    "        # exactitud <- exactitud + numero_aciertos_actuales\n",
    "        perdida_train += loss.item()\n",
    "        exactitud += (logits.argmax(1) == y).type(torch.float).sum().item()\n",
    "\n",
    "        # Imprimimos la evolucion del entrenamiento cada 10 lotes\n",
    "        if nlote % 10 == 0: #Cuando sea un multiplo de 10 imprimimos\n",
    "            # Optenemos el valor de la perdida actual y el numero de datos procesados\n",
    "            ndatos = nlote*TAM_LOTE #Cantidad de datos procesados\n",
    "\n",
    "            print(f\"\\tPerdida: {loss.item():>7f} [{ndatos:>5d}/{train_size:>5d}]\")\n",
    "\n",
    "    # Calcular valores promedio de pérdida y exactitud\n",
    "    perdida_train /= nlotes #Promedio de la perdida\n",
    "    exactitud /= train_size #Promedio de la exactitud\n",
    "\n",
    "    print(f\"Perdida promedio: {perdida_train:>8f} | Exactitud: {100*exactitud:>0.1f}%\")\n",
    "\n",
    "    \n",
    "\n",
    "\n",
    "\n"
   ]
  },
  {
   "cell_type": "code",
   "execution_count": 31,
   "metadata": {},
   "outputs": [],
   "source": [
    "def val_loop(dataloader, model, loss_fn):\n",
    "    #Cantidad de datos de validacion\n",
    "    val_size = len(dataloader.dataset)\n",
    "    nlotes = len(dataloader)\n",
    "\n",
    "    #Indicarle a Pytorch que el modelo está en modo evaluación\n",
    "    model.eval()\n",
    "\n",
    "    #Inicializar acumuladores de pérdida y exactitud\n",
    "    perdida_val, exactitud = 0, 0\n",
    "\n",
    "    #Desactivar el calculo de gradientes\n",
    "    with torch.no_grad():\n",
    "        for X, y in dataloader:\n",
    "            X, y = X.to(device), y.to(device)\n",
    "            #Propagación hacia adelante\n",
    "            logits = model(X)\n",
    "\n",
    "            #Acutalizar acumuladores de pérdida y exactitud\n",
    "            perdida_val += loss_fn(logits, y).item()\n",
    "            exactitud += (logits.argmax(1) == y).type(torch.float).sum().item()\n",
    "    #Tras finalizar el bucle, calcular valores promedio de pérdida y exactitud\n",
    "    perdida_val /= nlotes\n",
    "    exactitud /= val_size\n",
    "\n",
    "    print(f\"Perdida promedio: {perdida_val:>8f} | Exactitud: {100*exactitud:>0.1f}%\")\n"
   ]
  },
  {
   "cell_type": "markdown",
   "metadata": {},
   "source": [
    "¡Y listo! Ya tenemos todo lo necesario para entrenar y validar nuestro modelo de Deep Learning.\n",
    "\n",
    "Sólo nos restan unas cuantas líneas de código en las cuales de forma iterativa llamaremos las dos funciones que acabamos de crear (train_loop y val_loop):"
   ]
  },
  {
   "cell_type": "code",
   "execution_count": 32,
   "metadata": {},
   "outputs": [
    {
     "name": "stdout",
     "output_type": "stream",
     "text": [
      "Iteracion 1\n",
      "----------------------------------\n",
      "\tPerdida: 2.310895 [    0/48000]\n",
      "\tPerdida: 2.115603 [10000/48000]\n",
      "\tPerdida: 1.909765 [20000/48000]\n",
      "\tPerdida: 1.661994 [30000/48000]\n",
      "\tPerdida: 1.396372 [40000/48000]\n",
      "Perdida promedio: 1.791962 | Exactitud: 56.9%\n",
      "Perdida promedio: 1.187725 | Exactitud: 76.2%\n",
      "Iteracion 2\n",
      "----------------------------------\n",
      "\tPerdida: 1.173304 [    0/48000]\n",
      "\tPerdida: 1.041067 [10000/48000]\n",
      "\tPerdida: 0.865448 [20000/48000]\n",
      "\tPerdida: 0.786057 [30000/48000]\n",
      "\tPerdida: 0.695490 [40000/48000]\n",
      "Perdida promedio: 0.871775 | Exactitud: 80.6%\n",
      "Perdida promedio: 0.685640 | Exactitud: 83.4%\n",
      "Iteracion 3\n",
      "----------------------------------\n",
      "\tPerdida: 0.679566 [    0/48000]\n",
      "\tPerdida: 0.579053 [10000/48000]\n",
      "\tPerdida: 0.581677 [20000/48000]\n",
      "\tPerdida: 0.589693 [30000/48000]\n",
      "\tPerdida: 0.535227 [40000/48000]\n",
      "Perdida promedio: 0.588127 | Exactitud: 85.2%\n",
      "Perdida promedio: 0.536181 | Exactitud: 86.3%\n",
      "Iteracion 4\n",
      "----------------------------------\n",
      "\tPerdida: 0.497756 [    0/48000]\n",
      "\tPerdida: 0.498864 [10000/48000]\n",
      "\tPerdida: 0.516847 [20000/48000]\n",
      "\tPerdida: 0.472673 [30000/48000]\n",
      "\tPerdida: 0.442473 [40000/48000]\n",
      "Perdida promedio: 0.485023 | Exactitud: 87.2%\n",
      "Perdida promedio: 0.469897 | Exactitud: 87.4%\n",
      "Iteracion 5\n",
      "----------------------------------\n",
      "\tPerdida: 0.477399 [    0/48000]\n",
      "\tPerdida: 0.447208 [10000/48000]\n",
      "\tPerdida: 0.478909 [20000/48000]\n",
      "\tPerdida: 0.432316 [30000/48000]\n",
      "\tPerdida: 0.394152 [40000/48000]\n",
      "Perdida promedio: 0.432124 | Exactitud: 88.3%\n",
      "Perdida promedio: 0.430652 | Exactitud: 88.2%\n",
      "Iteracion 6\n",
      "----------------------------------\n",
      "\tPerdida: 0.414001 [    0/48000]\n",
      "\tPerdida: 0.399116 [10000/48000]\n",
      "\tPerdida: 0.371667 [20000/48000]\n",
      "\tPerdida: 0.420180 [30000/48000]\n",
      "\tPerdida: 0.411781 [40000/48000]\n",
      "Perdida promedio: 0.399427 | Exactitud: 89.0%\n",
      "Perdida promedio: 0.406348 | Exactitud: 88.8%\n",
      "Iteracion 7\n",
      "----------------------------------\n",
      "\tPerdida: 0.419053 [    0/48000]\n",
      "\tPerdida: 0.365845 [10000/48000]\n",
      "\tPerdida: 0.386370 [20000/48000]\n",
      "\tPerdida: 0.357861 [30000/48000]\n",
      "\tPerdida: 0.417537 [40000/48000]\n",
      "Perdida promedio: 0.376472 | Exactitud: 89.5%\n",
      "Perdida promedio: 0.388128 | Exactitud: 89.3%\n",
      "Iteracion 8\n",
      "----------------------------------\n",
      "\tPerdida: 0.380756 [    0/48000]\n",
      "\tPerdida: 0.401442 [10000/48000]\n",
      "\tPerdida: 0.347047 [20000/48000]\n",
      "\tPerdida: 0.428667 [30000/48000]\n",
      "\tPerdida: 0.306668 [40000/48000]\n",
      "Perdida promedio: 0.359772 | Exactitud: 89.9%\n",
      "Perdida promedio: 0.374887 | Exactitud: 89.4%\n",
      "Iteracion 9\n",
      "----------------------------------\n",
      "\tPerdida: 0.350497 [    0/48000]\n",
      "\tPerdida: 0.381677 [10000/48000]\n",
      "\tPerdida: 0.363112 [20000/48000]\n",
      "\tPerdida: 0.344902 [30000/48000]\n",
      "\tPerdida: 0.369405 [40000/48000]\n",
      "Perdida promedio: 0.346195 | Exactitud: 90.3%\n",
      "Perdida promedio: 0.363401 | Exactitud: 90.0%\n",
      "Iteracion 10\n",
      "----------------------------------\n",
      "\tPerdida: 0.345789 [    0/48000]\n",
      "\tPerdida: 0.342001 [10000/48000]\n",
      "\tPerdida: 0.353711 [20000/48000]\n",
      "\tPerdida: 0.304325 [30000/48000]\n",
      "\tPerdida: 0.300431 [40000/48000]\n",
      "Perdida promedio: 0.335054 | Exactitud: 90.5%\n",
      "Perdida promedio: 0.355719 | Exactitud: 90.1%\n",
      "Entrenamiento finalizado\n"
     ]
    }
   ],
   "source": [
    "for t in range(EPOCHS):\n",
    "    print(f'Iteracion {t+1}\\n----------------------------------')\n",
    "    #Entrenamiento\n",
    "    train_loop(train_loader, modelo, fn_perdida, optimizador)\n",
    "    # Validacion\n",
    "    val_loop(val_loader, modelo, fn_perdida)\n",
    "print(\"Entrenamiento finalizado\")"
   ]
  },
  {
   "cell_type": "markdown",
   "metadata": {},
   "source": [
    "¡Perfecto! En este punto ya hemos entrenado y validado nuestro modelo.\n",
    "\n",
    "Podemos ver que en la iteración 10 se tiene una exactitud de casi el 90% con ambos sets (entrenamiento y validación). Así que podemos decir que nuestro modelo esta generando buenas predicciones y que no tiene overfitting.\n",
    "\n",
    "Sólo nos resta tomar el modelo entrenado y generar predicciones. Veamos cómo hacerlo."
   ]
  },
  {
   "cell_type": "markdown",
   "metadata": {},
   "source": [
    "#### 8. Generando predicciones con el modelo entrenado\n",
    "Habiendo entrenado el modelo ya podemos comenzar a usarlo para generar predicciones.\n",
    "\n",
    "Estas predicciones implican que debemos introducir una imagen y el modelo debe predecir la categoría a la que pertenece.\n",
    "\n",
    "Para ello crearemos una sencilla función (predecir) con estas características:\n",
    "\n",
    "Entradas: el modelo entrenado y una imagen\n",
    "Salida: mostrará en pantalla la imagen original y la categoría predicha\n",
    "Veamos cómo crear esta función:"
   ]
  },
  {
   "cell_type": "code",
   "execution_count": 37,
   "metadata": {},
   "outputs": [],
   "source": [
    "def predecir(modelo, img):\n",
    "    # Muevo la imagen al mismo dispositivo que el modelo\n",
    "    img = img.to(device)\n",
    "    # Generar predicciones\n",
    "    logits = modelo(img)\n",
    "    y_pred = logits.argmax(1).item()\n",
    "\n",
    "    # Mostramos las imágenes y la predicción\n",
    "    plt.imshow(img.cpu().squeeze(0), cmap='gray')\n",
    "    plt.title(f'Prediccion: {y_pred}')"
   ]
  },
  {
   "cell_type": "code",
   "execution_count": 42,
   "metadata": {},
   "outputs": [
    {
     "data": {
      "image/png": "[encoded data removed]",
      "text/plain": [
       "<Figure size 640x480 with 1 Axes>"
      ]
     },
     "metadata": {},
     "output_type": "display_data"
    }
   ],
   "source": [
    "img, lbl = test[1]\n",
    "predecir(modelo, img)"
   ]
  }
 ],
 "metadata": {
  "kernelspec": {
   "display_name": "base",
   "language": "python",
   "name": "python3"
  },
  "language_info": {
   "codemirror_mode": {
    "name": "ipython",
    "version": 3
   },
   "file_extension": ".py",
   "mimetype": "text/x-python",
   "name": "python",
   "nbconvert_exporter": "python",
   "pygments_lexer": "ipython3",
   "version": "3.13.2"
  }
 },
 "nbformat": 4,
 "nbformat_minor": 2
}
